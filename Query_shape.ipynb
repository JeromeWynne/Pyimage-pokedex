{
 "cells": [
  {
   "cell_type": "code",
   "execution_count": 199,
   "metadata": {
    "collapsed": false
   },
   "outputs": [],
   "source": [
    "from numpy.linalg import norm\n",
    "from scipy.ndimage import imread\n",
    "from skimage.transform import resize\n",
    "import cv2\n",
    "from matplotlib import pyplot as plt\n",
    "import numpy as np\n",
    "import mahotas\n",
    "%matplotlib inline"
   ]
  },
  {
   "cell_type": "code",
   "execution_count": 200,
   "metadata": {
    "collapsed": true
   },
   "outputs": [],
   "source": [
    "class ZernikeMoments:\n",
    "    def __init__(self, radius):\n",
    "        self.radius = radius # Size of radius used when computing moments\n",
    "    \n",
    "    def describe(self, image): # Returns ZMoments of image\n",
    "        return mahotas.features.zernike_moments(image, self.radius)"
   ]
  },
  {
   "cell_type": "code",
   "execution_count": 201,
   "metadata": {
    "collapsed": true
   },
   "outputs": [],
   "source": [
    "class Searcher:\n",
    "    # Initializes with an index of sprite Zernike moment features\n",
    "    # Querying an image's features against it causes it to find the\n",
    "    # sprite in the database that's nearest\n",
    "    def __init__(self, index):\n",
    "        self.index = index\n",
    "        \n",
    "    def search(self, queryFeatures):\n",
    "        results = {}\n",
    "        for (key, features) in self.index.items():\n",
    "            distance = norm(queryFeatures - features)\n",
    "            results[key] = distance\n",
    "            \n",
    "        results = sorted([(v, k) for (k, v) in results.items()])\n",
    "        return results # Nearest sprite is first in list"
   ]
  },
  {
   "cell_type": "code",
   "execution_count": 246,
   "metadata": {
    "collapsed": false
   },
   "outputs": [
    {
     "data": {
      "image/png": "[encoded data removed]",
      "text/plain": [
       "<matplotlib.figure.Figure at 0xe8d3e80>"
      ]
     },
     "metadata": {},
     "output_type": "display_data"
    }
   ],
   "source": [
    "index = open('./pokesprite_index', 'rb')\n",
    "index = pickle.load(index)\n",
    "\n",
    "img = imread('./result_img/cropped.png')\n",
    "img = (resize(img, [56, 56])*255).astype('uint8')\n",
    "\n",
    "thresh = cv2.adaptiveThreshold(img, 255, cv2.ADAPTIVE_THRESH_MEAN_C,\n",
    "                                cv2.THRESH_BINARY_INV, 43, 21)\n",
    "plt.imshow(thresh, cmap='gray');"
   ]
  },
  {
   "cell_type": "markdown",
   "metadata": {},
   "source": [
    "### Adaptive Thresholding"
   ]
  },
  {
   "cell_type": "markdown",
   "metadata": {},
   "source": [
    "Adaptive thresholding uses a locally calculated threshold, typically the mean Gaussian-weighted sum of the neighboring pixels, shifted by some constant.\n",
    "\n",
    "In OpenCV, `block_size` determines the neighborhood area, and `C` is the constant by which to translate the thresholds calculated at each pixel.\n",
    "\n",
    "If we don't shift the threshold using `C`, then each pixel will be white if it's larger than the average of its neighbors, or black if it isn't.\n",
    "\n",
    "If the neighbors are similar, but not quite the same (as in the case above where the screen was uneven), then by setting C to the range of the neighbors, we can ensure that the threshold will classify the neighbors in the same way.\n",
    "\n",
    "A larger neighborhood will be less sensitive to rapid variations in intensity, whereas a smaller one might be insufficiently sensitive, causing small genuinely dark regions to be thresholded high."
   ]
  },
  {
   "cell_type": "code",
   "execution_count": 247,
   "metadata": {
    "collapsed": false
   },
   "outputs": [],
   "source": [
    "outline = np.zeros(img.shape, dtype='float32')\n",
    "_, cnts, _ = cv2.findContours(thresh.copy(), mode=cv2.RETR_EXTERNAL,\n",
    "                          method=cv2.CHAIN_APPROX_SIMPLE)\n",
    "extCnt = sorted(cnts, key=cv2.contourArea, reverse=True)[0]\n",
    "outline = cv2.drawContours(outline, [extCnt], -1, 255, -1)"
   ]
  },
  {
   "cell_type": "code",
   "execution_count": 248,
   "metadata": {
    "collapsed": false
   },
   "outputs": [
    {
     "data": {
      "text/plain": [
       "<matplotlib.image.AxesImage at 0xec5c3c8>"
      ]
     },
     "execution_count": 248,
     "metadata": {},
     "output_type": "execute_result"
    },
    {
     "data": {
      "image/png": "[encoded data removed]",
      "text/plain": [
       "<matplotlib.figure.Figure at 0xeaf8400>"
      ]
     },
     "metadata": {},
     "output_type": "display_data"
    }
   ],
   "source": [
    "plt.imshow(outline, cmap='gray')"
   ]
  },
  {
   "cell_type": "code",
   "execution_count": 253,
   "metadata": {
    "collapsed": false
   },
   "outputs": [
    {
     "name": "stdout",
     "output_type": "stream",
     "text": [
      "It's a marowak!\n"
     ]
    }
   ],
   "source": [
    "desc = ZernikeMoments(21) # Initialize ZM instance\n",
    "queryFeatures = desc.describe(outline) # Get 21 ZM features\n",
    "\n",
    "searcher = Searcher(index) # Initialize db\n",
    "results = searcher.search(queryFeatures) # Return list of nearest images\n",
    "print('It\\'s a %s!' % results[0][1])"
   ]
  },
  {
   "cell_type": "code",
   "execution_count": 255,
   "metadata": {
    "collapsed": false
   },
   "outputs": [
    {
     "data": {
      "text/plain": [
       "[(0.032153144502341809, 'marowak'),\n",
       " (0.068165151936781659, 'magikarp'),\n",
       " (0.068434675174685572, 'pidgeot'),\n",
       " (0.072307076271018844, 'sandslash'),\n",
       " (0.07336799164263258, 'omastar'),\n",
       " (0.075658016760308783, 'tentacruel'),\n",
       " (0.075666030147053948, 'drowzee'),\n",
       " (0.076131063208810468, 'clefable'),\n",
       " (0.079785008089570439, 'haunter'),\n",
       " (0.079876814401607613, 'venomoth'),\n",
       " (0.082224252114632509, 'pidgeotto'),\n",
       " (0.083337709826857134, 'nidorina'),\n",
       " (0.085128531110667593, 'parasect'),\n",
       " (0.08764963976375853, 'scyther'),\n",
       " (0.087737335283488149, 'nidorino'),\n",
       " (0.088567818501552903, 'dugtrio'),\n",
       " (0.089852288727979721, 'gengar'),\n",
       " (0.090826040320067317, 'butterfree'),\n",
       " (0.091069052985062418, 'nidoqueen'),\n",
       " (0.092312412318774476, 'psyduck'),\n",
       " (0.093507541523223464, 'golbat'),\n",
       " (0.093813935220733544, 'seaking'),\n",
       " (0.09429391195217908, 'raticate'),\n",
       " (0.094659797107673568, 'jynx'),\n",
       " (0.094834285143228766, 'tangela'),\n",
       " (0.095065555617758785, 'kangaskhan'),\n",
       " (0.095144376850815351, 'jolteon'),\n",
       " (0.095532771438892813, 'primeape'),\n",
       " (0.095747932316161591, 'farfetchd'),\n",
       " (0.096771190656213771, 'hypno'),\n",
       " (0.097203887732193905, 'weezing'),\n",
       " (0.098099136617777222, 'machamp'),\n",
       " (0.098885890099824097, 'raichu'),\n",
       " (0.09906583386161133, 'starmie'),\n",
       " (0.099315258149408059, 'beedrill'),\n",
       " (0.10022028645962588, 'nidoking'),\n",
       " (0.1002309052659909, 'graveler'),\n",
       " (0.10105012636493546, 'machoke'),\n",
       " (0.10209021102958625, 'hitmonchan'),\n",
       " (0.10306542880566594, 'poliwrath'),\n",
       " (0.10346921154674782, 'kabutops'),\n",
       " (0.10388561066433806, 'mr-mime'),\n",
       " (0.10422134315760312, 'lickitung'),\n",
       " (0.10510789109940538, 'zapdos'),\n",
       " (0.10541639868589012, 'dragonite'),\n",
       " (0.10568349272309155, 'magneton'),\n",
       " (0.10683285872237655, 'flareon'),\n",
       " (0.10729417804334565, 'golduck'),\n",
       " (0.10775302704970408, 'golem'),\n",
       " (0.10821040257263716, 'ninetales'),\n",
       " (0.10927306146283881, 'seel'),\n",
       " (0.10998379230332885, 'poliwhirl'),\n",
       " (0.11124924442265065, 'moltres'),\n",
       " (0.11196347628572927, 'dewgong'),\n",
       " (0.11224624321061566, 'tauros'),\n",
       " (0.11283173105872304, 'electabuzz'),\n",
       " (0.11324301581402181, 'pinsir'),\n",
       " (0.11501682445726606, 'aerodactyl'),\n",
       " (0.11610996627282441, 'venusaur'),\n",
       " (0.11909281718099501, 'arbok'),\n",
       " (0.11948776662739818, 'alakazam'),\n",
       " (0.11955481819258212, 'wigglytuff'),\n",
       " (0.11971157754288837, 'magmar'),\n",
       " (0.11977955092877041, 'fearow'),\n",
       " (0.12047719897673602, 'rapidash'),\n",
       " (0.12093164192353786, 'porygon'),\n",
       " (0.12117460906715451, 'exeggutor'),\n",
       " (0.1224533380453225, 'gastly'),\n",
       " (0.12291247590592999, 'muk'),\n",
       " (0.12325513855514048, 'mewtwo'),\n",
       " (0.12375978926836387, 'seadra'),\n",
       " (0.1239411547917624, 'kingler'),\n",
       " (0.12471327380007177, 'dodrio'),\n",
       " (0.12561393971027859, 'ivysaur'),\n",
       " (0.12593955721966563, 'vileplume'),\n",
       " (0.1278412705272233, 'exeggcute'),\n",
       " (0.12896282066483608, 'victreebel'),\n",
       " (0.1296036605916672, 'articuno'),\n",
       " (0.13096968481093718, 'arcanine'),\n",
       " (0.13117765110113233, 'rhydon'),\n",
       " (0.13495184518684356, 'gyarados'),\n",
       " (0.13690522283882806, 'vaporeon'),\n",
       " (0.1390406779452189, 'rhyhorn'),\n",
       " (0.13946782206829586, 'dragonair'),\n",
       " (0.13960577654482681, 'chansey'),\n",
       " (0.1402157065839541, 'ponyta'),\n",
       " (0.14172072673837999, 'hitmonlee'),\n",
       " (0.14365457413079055, 'vulpix'),\n",
       " (0.14432041499869938, 'lapras'),\n",
       " (0.14495767890545316, 'kadabra'),\n",
       " (0.14759133088700221, 'cloyster'),\n",
       " (0.14875338891112769, 'snorlax'),\n",
       " (0.1492058785506517, 'slowpoke'),\n",
       " (0.15000883817364113, 'charizard'),\n",
       " (0.15189504872810244, 'blastoise'),\n",
       " (0.15248724334716462, 'slowbro'),\n",
       " (0.15558634176404587, 'grimer'),\n",
       " (0.16235451205679541, 'persian'),\n",
       " (0.1627350007637022, 'wartortle'),\n",
       " (0.16638804500666776, 'charmeleon'),\n",
       " (0.17513185411970753, 'krabby'),\n",
       " (0.17629749082942298, 'weepinbell'),\n",
       " (0.18159443276433687, 'goldeen'),\n",
       " (0.18488136402878264, 'shellder'),\n",
       " (0.18988609696208908, 'clefairy'),\n",
       " (0.20611765551813346, 'venonat'),\n",
       " (0.20754467077042965, 'koffing'),\n",
       " (0.2087209567499341, 'abra'),\n",
       " (0.20986089001752867, 'machop'),\n",
       " (0.21189430432524142, 'kabuto'),\n",
       " (0.21359125994205633, 'meowth'),\n",
       " (0.22506332257363051, 'zubat'),\n",
       " (0.22625531735400553, 'mankey'),\n",
       " (0.22827713457211496, 'onix'),\n",
       " (0.23939253130461716, 'growlithe'),\n",
       " (0.24212866143426762, 'cubone'),\n",
       " (0.2571364736020017, 'staryu'),\n",
       " (0.25742426594511453, 'charmander'),\n",
       " (0.25788728658395882, 'pikachu'),\n",
       " (0.25830563724721134, 'sandshrew'),\n",
       " (0.26594405301980195, 'eevee'),\n",
       " (0.28091119139353565, 'gloom'),\n",
       " (0.2868968571934829, 'dratini'),\n",
       " (0.29339739354258454, 'ekans'),\n",
       " (0.29804608970895358, 'electrode'),\n",
       " (0.32333841178214945, 'tentacool'),\n",
       " (0.34864580391469174, 'bulbasaur'),\n",
       " (0.35601654241362113, 'jigglypuff'),\n",
       " (0.36467926727647226, 'poliwag'),\n",
       " (0.38061679434950241, 'nidoran-m'),\n",
       " (0.39018606614426005, 'doduo'),\n",
       " (0.3930232218537853, 'geodude'),\n",
       " (0.39504791029760988, 'spearow'),\n",
       " (0.40478499791052108, 'omanyte'),\n",
       " (0.40727809321075598, 'ditto'),\n",
       " (0.41088455818317027, 'rattata'),\n",
       " (0.41552262707188947, 'squirtle'),\n",
       " (0.42619830593942643, 'diglett'),\n",
       " (0.43372098172758594, 'paras'),\n",
       " (0.43671590462411919, 'kakuna'),\n",
       " (0.45202750564317962, 'pidgey'),\n",
       " (0.48662244086242051, 'horsea'),\n",
       " (0.51160583173084528, 'bellsprout'),\n",
       " (0.5460755677163156, 'weedle'),\n",
       " (0.55151012569393632, 'nidoran-f'),\n",
       " (0.5540750985904449, 'oddish'),\n",
       " (0.59157659278685981, 'metapod'),\n",
       " (0.6377822166273982, 'caterpie'),\n",
       " (0.70229441820140315, 'voltorb'),\n",
       " (0.81751479463303434, 'magnemite')]"
      ]
     },
     "execution_count": 255,
     "metadata": {},
     "output_type": "execute_result"
    }
   ],
   "source": [
    "results"
   ]
  }
 ],
 "metadata": {
  "kernelspec": {
   "display_name": "Python [Root]",
   "language": "python",
   "name": "Python [Root]"
  },
  "language_info": {
   "codemirror_mode": {
    "name": "ipython",
    "version": 3
   },
   "file_extension": ".py",
   "mimetype": "text/x-python",
   "name": "python",
   "nbconvert_exporter": "python",
   "pygments_lexer": "ipython3",
   "version": "3.5.2"
  }
 },
 "nbformat": 4,
 "nbformat_minor": 0
}
