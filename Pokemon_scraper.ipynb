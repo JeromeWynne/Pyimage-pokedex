{
 "cells": [
  {
   "cell_type": "code",
   "execution_count": 54,
   "metadata": {
    "collapsed": true
   },
   "outputs": [],
   "source": [
    "import requests\n",
    "import bs4 as bs\n",
    "\n",
    "# Get Pokemon names\n",
    "NO_POKEMON = 150 # Maximum of 802\n",
    "pokedb_urls = ['https://pokemondb.net/pokedex/'+str(i+1) for i in range(NO_POKEMON)]\n",
    "pokemon_names = []\n",
    "for url in pokedb_urls:\n",
    "    page = bs.BeautifulSoup(requests.get(url).text, 'lxml')\n",
    "    pokemon_name = page.find('link', {'rel':'canonical'})['href'].split('/')[-1]\n",
    "    pokemon_names.append(pokemon_name)\n",
    "    \n",
    "# Write their names to a file for future reference\n",
    "f = open('pokemon_names', 'w')\n",
    "f.write(str(pokemon_names))\n",
    "f.close()\n",
    "\n",
    "# Download images of each pokemon\n",
    "for name in pokemon_names:\n",
    "    img_url = 'https://img.pokemondb.net/artwork/%s.jpg' % name\n",
    "    img_bytestr = requests.get(img_url).content\n",
    "    with file(('./pokemon_imgs/%s.jpg' % name), 'wb') as img_f: # Closes nicely\n",
    "        img_f.write(img_bytestr)"
   ]
  }
 ],
 "metadata": {
  "kernelspec": {
   "display_name": "Python [cca-advanced]",
   "language": "python",
   "name": "Python [cca-advanced]"
  },
  "language_info": {
   "codemirror_mode": {
    "name": "ipython",
    "version": 2
   },
   "file_extension": ".py",
   "mimetype": "text/x-python",
   "name": "python",
   "nbconvert_exporter": "python",
   "pygments_lexer": "ipython2",
   "version": "2.7.12"
  }
 },
 "nbformat": 4,
 "nbformat_minor": 0
}
